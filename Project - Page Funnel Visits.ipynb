{
 "cells": [
  {
   "cell_type": "markdown",
   "metadata": {},
   "source": [
    "# Page Visits Funnel\n",
    "\n",
    "Cool T-Shirts Inc. has asked you to analyze data on visits to their website. Your job is to build a funnel, which is a description of how many people continue to the next step of a multi-step process.\n",
    "\n",
    "In this case, our funnel is going to describe the following process:\n",
    "\n",
    "- A user visits CoolTShirts.com\n",
    "- A user adds a t-shirt to their cart\n",
    "- A user clicks “checkout”\n",
    "- A user actually purchases a t-shirt"
   ]
  },
  {
   "cell_type": "code",
   "execution_count": 2,
   "metadata": {},
   "outputs": [],
   "source": [
    "import pandas as pd"
   ]
  },
  {
   "cell_type": "markdown",
   "metadata": {},
   "source": [
    "Import all the files"
   ]
  },
  {
   "cell_type": "code",
   "execution_count": 3,
   "metadata": {},
   "outputs": [],
   "source": [
    "visits = pd.read_csv('visits.csv',\n",
    "                     parse_dates=[1])\n",
    "cart = pd.read_csv('cart.csv',\n",
    "                   parse_dates=[1])\n",
    "                   \n",
    "checkout = pd.read_csv('checkout.csv',\n",
    "                       parse_dates=[1])\n",
    "purchase = pd.read_csv('purchase.csv',\n",
    "                       parse_dates=[1])"
   ]
  },
  {
   "cell_type": "markdown",
   "metadata": {},
   "source": [
    "Step 1: Inspect the DataFrames using `print` and `head`"
   ]
  },
  {
   "cell_type": "code",
   "execution_count": 4,
   "metadata": {},
   "outputs": [
    {
     "name": "stdout",
     "output_type": "stream",
     "text": [
      "                                user_id          visit_time\n",
      "0  943647ef-3682-4750-a2e1-918ba6f16188 2017-04-07 15:14:00\n",
      "1  0c3a3dd0-fb64-4eac-bf84-ba069ce409f2 2017-01-26 14:24:00\n",
      "2  6e0b2d60-4027-4d9a-babd-0e7d40859fb1 2017-08-20 08:23:00\n",
      "3  6879527e-c5a6-4d14-b2da-50b85212b0ab 2017-11-04 18:15:00\n",
      "4  a84327ff-5daa-4ba1-b789-d5b4caf81e96 2017-02-27 11:25:00\n",
      "                                user_id           cart_time\n",
      "0  2be90e7c-9cca-44e0-bcc5-124b945ff168 2017-11-07 20:45:00\n",
      "1  4397f73f-1da3-4ab3-91af-762792e25973 2017-05-27 01:35:00\n",
      "2  a9db3d4b-0a0a-4398-a55a-ebb2c7adf663 2017-03-04 10:38:00\n",
      "3  b594862a-36c5-47d5-b818-6e9512b939b3 2017-09-27 08:22:00\n",
      "4  a68a16e2-94f0-4ce8-8ce3-784af0bbb974 2017-07-26 15:48:00\n",
      "                                user_id       checkout_time\n",
      "0  d33bdc47-4afa-45bc-b4e4-dbe948e34c0d 2017-06-25 09:29:00\n",
      "1  4ac186f0-9954-4fea-8a27-c081e428e34e 2017-04-07 20:11:00\n",
      "2  3c9c78a7-124a-4b77-8d2e-e1926e011e7d 2017-07-13 11:38:00\n",
      "3  89fe330a-8966-4756-8f7c-3bdbcd47279a 2017-04-20 16:15:00\n",
      "4  3ccdaf69-2d30-40de-b083-51372881aedd 2017-01-08 20:52:00\n",
      "                                user_id       purchase_time\n",
      "0  4b44ace4-2721-47a0-b24b-15fbfa2abf85 2017-05-11 04:25:00\n",
      "1  02e684ae-a448-408f-a9ff-dcb4a5c99aac 2017-09-05 08:45:00\n",
      "2  4b4bc391-749e-4b90-ab8f-4f6e3c84d6dc 2017-11-20 20:49:00\n",
      "3  a5dbb25f-3c36-4103-9030-9f7c6241cd8d 2017-01-22 15:18:00\n",
      "4  46a3186d-7f5a-4ab9-87af-84d05bfd4867 2017-06-11 11:32:00\n"
     ]
    }
   ],
   "source": [
    "print(visits.head(5))\n",
    "print(cart.head(5))\n",
    "print(checkout.head(5))\n",
    "print(purchase.head(5))"
   ]
  },
  {
   "cell_type": "markdown",
   "metadata": {},
   "source": [
    "Step 2: Left merging visits and cart"
   ]
  },
  {
   "cell_type": "code",
   "execution_count": 5,
   "metadata": {},
   "outputs": [
    {
     "name": "stdout",
     "output_type": "stream",
     "text": [
      "                                user_id          visit_time  \\\n",
      "0  943647ef-3682-4750-a2e1-918ba6f16188 2017-04-07 15:14:00   \n",
      "1  0c3a3dd0-fb64-4eac-bf84-ba069ce409f2 2017-01-26 14:24:00   \n",
      "2  6e0b2d60-4027-4d9a-babd-0e7d40859fb1 2017-08-20 08:23:00   \n",
      "3  6879527e-c5a6-4d14-b2da-50b85212b0ab 2017-11-04 18:15:00   \n",
      "4  a84327ff-5daa-4ba1-b789-d5b4caf81e96 2017-02-27 11:25:00   \n",
      "5  7bc62113-d51d-4e6b-85e0-1cf29e3de74a 2017-06-03 20:05:00   \n",
      "6  6f22cd44-bc63-4449-a9af-2651859da2f9 2017-03-18 23:09:00   \n",
      "7  49a6399b-c095-4e42-92eb-af90abe2bb6a 2017-01-10 12:09:00   \n",
      "8  653c095d-fd74-40dd-ae3b-5a69a2613629 2017-06-27 19:21:00   \n",
      "9  3d9fdac1-aae3-4a01-b448-934d12047468 2017-09-24 06:43:00   \n",
      "\n",
      "            cart_time  \n",
      "0                 NaT  \n",
      "1 2017-01-26 14:44:00  \n",
      "2 2017-08-20 08:31:00  \n",
      "3                 NaT  \n",
      "4                 NaT  \n",
      "5                 NaT  \n",
      "6                 NaT  \n",
      "7                 NaT  \n",
      "8                 NaT  \n",
      "9                 NaT  \n"
     ]
    }
   ],
   "source": [
    "visits_cart = pd.merge(visits, cart, how='left')\n",
    "print(visits_cart.head(10))"
   ]
  },
  {
   "cell_type": "markdown",
   "metadata": {},
   "source": [
    "Step 3: How long is `visits_cart`?"
   ]
  },
  {
   "cell_type": "code",
   "execution_count": 6,
   "metadata": {},
   "outputs": [
    {
     "name": "stdout",
     "output_type": "stream",
     "text": [
      "2000\n",
      "user_id       2000\n",
      "visit_time    2000\n",
      "cart_time      348\n",
      "dtype: int64\n"
     ]
    }
   ],
   "source": [
    "print(len(visits_cart))\n",
    "print(visits_cart.count())"
   ]
  },
  {
   "cell_type": "markdown",
   "metadata": {},
   "source": [
    "Step 4: How many timestamps are null for `cart_time`?"
   ]
  },
  {
   "cell_type": "code",
   "execution_count": 24,
   "metadata": {},
   "outputs": [
    {
     "name": "stdout",
     "output_type": "stream",
     "text": [
      "1652\n"
     ]
    }
   ],
   "source": [
    "print(2000-visits_cart.cart_time.count())"
   ]
  },
  {
   "cell_type": "markdown",
   "metadata": {},
   "source": [
    "Step 5: What percentage only visited?"
   ]
  },
  {
   "cell_type": "code",
   "execution_count": 34,
   "metadata": {},
   "outputs": [
    {
     "name": "stdout",
     "output_type": "stream",
     "text": [
      "82.6\n"
     ]
    }
   ],
   "source": [
    "visited = (visits_cart.visit_time.count()-visits_cart.cart_time.count())/visits_cart.visit_time.count()*100\n",
    "print(visited)"
   ]
  },
  {
   "cell_type": "markdown",
   "metadata": {},
   "source": [
    "Step 6: What percentage placed a t-shirt in their cart but did not checkout?"
   ]
  },
  {
   "cell_type": "code",
   "execution_count": 36,
   "metadata": {},
   "outputs": [
    {
     "name": "stdout",
     "output_type": "stream",
     "text": [
      "user_id          348\n",
      "cart_time        348\n",
      "checkout_time    226\n",
      "dtype: int64\n",
      "35.05747126436782\n"
     ]
    }
   ],
   "source": [
    "cart_nocheckout = pd.merge(cart, checkout, how='left')\n",
    "print(cart_nocheckout.count())\n",
    "\n",
    "carted_nocheckout = (cart_nocheckout.cart_time.count()-cart_nocheckout.checkout_time.count())/cart_nocheckout.cart_time.count()*100\n",
    "print(carted_nocheckout)"
   ]
  },
  {
   "cell_type": "markdown",
   "metadata": {},
   "source": [
    "Step 7: Merge it all together"
   ]
  },
  {
   "cell_type": "code",
   "execution_count": 25,
   "metadata": {},
   "outputs": [
    {
     "name": "stdout",
     "output_type": "stream",
     "text": [
      "                                user_id          visit_time  \\\n",
      "0  943647ef-3682-4750-a2e1-918ba6f16188 2017-04-07 15:14:00   \n",
      "1  0c3a3dd0-fb64-4eac-bf84-ba069ce409f2 2017-01-26 14:24:00   \n",
      "2  6e0b2d60-4027-4d9a-babd-0e7d40859fb1 2017-08-20 08:23:00   \n",
      "3  6879527e-c5a6-4d14-b2da-50b85212b0ab 2017-11-04 18:15:00   \n",
      "4  a84327ff-5daa-4ba1-b789-d5b4caf81e96 2017-02-27 11:25:00   \n",
      "5  7bc62113-d51d-4e6b-85e0-1cf29e3de74a 2017-06-03 20:05:00   \n",
      "6  6f22cd44-bc63-4449-a9af-2651859da2f9 2017-03-18 23:09:00   \n",
      "7  49a6399b-c095-4e42-92eb-af90abe2bb6a 2017-01-10 12:09:00   \n",
      "8  653c095d-fd74-40dd-ae3b-5a69a2613629 2017-06-27 19:21:00   \n",
      "9  3d9fdac1-aae3-4a01-b448-934d12047468 2017-09-24 06:43:00   \n",
      "\n",
      "            cart_time       checkout_time       purchase_time  \n",
      "0                 NaT                 NaT                 NaT  \n",
      "1 2017-01-26 14:44:00 2017-01-26 14:54:00 2017-01-26 15:08:00  \n",
      "2 2017-08-20 08:31:00                 NaT                 NaT  \n",
      "3                 NaT                 NaT                 NaT  \n",
      "4                 NaT                 NaT                 NaT  \n",
      "5                 NaT                 NaT                 NaT  \n",
      "6                 NaT                 NaT                 NaT  \n",
      "7                 NaT                 NaT                 NaT  \n",
      "8                 NaT                 NaT                 NaT  \n",
      "9                 NaT                 NaT                 NaT  \n"
     ]
    }
   ],
   "source": [
    "all_data = pd.merge(visits_cart, cart_nocheckout, how='left').merge(purchase, how='left')\n",
    "print(all_data.head(10))\n"
   ]
  },
  {
   "cell_type": "markdown",
   "metadata": {},
   "source": [
    "Step 8: % of users who got to checkout but did not purchase"
   ]
  },
  {
   "cell_type": "code",
   "execution_count": 39,
   "metadata": {},
   "outputs": [
    {
     "name": "stdout",
     "output_type": "stream",
     "text": [
      "24.550898203592812\n"
     ]
    }
   ],
   "source": [
    "check_nobuy = (all_data.checkout_time.count()-all_data.purchase_time.count())/all_data.checkout_time.count()*100\n",
    "print(check_nobuy)"
   ]
  },
  {
   "cell_type": "markdown",
   "metadata": {},
   "source": [
    "Step 9: check each part of the funnel, let's print all 3 of them again"
   ]
  },
  {
   "cell_type": "code",
   "execution_count": 40,
   "metadata": {},
   "outputs": [
    {
     "name": "stdout",
     "output_type": "stream",
     "text": [
      "82.6 percent of users who visited the page did not add a t-shirt to their cart\n",
      "35.06 percent of users who added a t-shirt to their cart did not checkout\n",
      "24.55 percent of users who made it to checkout  did not purchase a shirt\n"
     ]
    }
   ],
   "source": [
    "print(\"{} percent of users who visited the page did not add a t-shirt to their cart\".format(round(visited, 2)))\n",
    "print(\"{} percent of users who added a t-shirt to their cart did not checkout\".format(round(carted_nocheckout, 2)))\n",
    "print(\"{} percent of users who made it to checkout  did not purchase a shirt\".format(round(check_nobuy, 2)))\n"
   ]
  },
  {
   "cell_type": "markdown",
   "metadata": {},
   "source": [
    "*The weakest part of the funnel is clearly getting a person who visited the site to add a tshirt to their cart. Once they've added a t-shirt to their cart it is fairly likely they end up purchasing it. A suggestion could be to make the add-to-cart button more prominent on the front page.*\n",
    "\n",
    "\n",
    "Step 10: Using the giant merged DataFrame all_data that you created, calculate the average time from initial visit to final purchase. Add a column that is the difference between purchase_time and visit_time."
   ]
  },
  {
   "cell_type": "code",
   "execution_count": 42,
   "metadata": {},
   "outputs": [],
   "source": [
    "all_data['time_to_purchase'] = all_data.purchase_time - all_data.visit_time"
   ]
  },
  {
   "cell_type": "markdown",
   "metadata": {},
   "source": [
    "Step 11: examine the results"
   ]
  },
  {
   "cell_type": "code",
   "execution_count": 44,
   "metadata": {},
   "outputs": [
    {
     "name": "stdout",
     "output_type": "stream",
     "text": [
      "0                  NaT\n",
      "1      0 days 00:44:00\n",
      "2                  NaT\n",
      "3                  NaT\n",
      "4                  NaT\n",
      "             ...      \n",
      "2103               NaT\n",
      "2104               NaT\n",
      "2105               NaT\n",
      "2106               NaT\n",
      "2107               NaT\n",
      "Name: time_to_purchase, Length: 2108, dtype: timedelta64[ns]\n"
     ]
    }
   ],
   "source": [
    "print(all_data.time_to_purchase)"
   ]
  },
  {
   "cell_type": "markdown",
   "metadata": {},
   "source": [
    "Step 12: average time to purchase"
   ]
  },
  {
   "cell_type": "code",
   "execution_count": 45,
   "metadata": {},
   "outputs": [
    {
     "name": "stdout",
     "output_type": "stream",
     "text": [
      "0 days 00:43:12.380952380\n"
     ]
    }
   ],
   "source": [
    "print(all_data.time_to_purchase.mean())"
   ]
  },
  {
   "cell_type": "code",
   "execution_count": null,
   "metadata": {},
   "outputs": [],
   "source": []
  }
 ],
 "metadata": {
  "kernelspec": {
   "display_name": "Python 3 (ipykernel)",
   "language": "python",
   "name": "python3"
  },
  "language_info": {
   "codemirror_mode": {
    "name": "ipython",
    "version": 3
   },
   "file_extension": ".py",
   "mimetype": "text/x-python",
   "name": "python",
   "nbconvert_exporter": "python",
   "pygments_lexer": "ipython3",
   "version": "3.9.12"
  }
 },
 "nbformat": 4,
 "nbformat_minor": 4
}
